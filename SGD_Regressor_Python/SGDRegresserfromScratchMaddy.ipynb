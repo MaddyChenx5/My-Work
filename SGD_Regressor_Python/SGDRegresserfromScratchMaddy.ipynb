{
 "cells": [
  {
   "cell_type": "markdown",
   "metadata": {},
   "source": [
    "##Stochastic Gradient Descent Regresser\n",
    "\n",
    "Submitted By: Maddy"
   ]
  },
  {
   "cell_type": "markdown",
   "metadata": {},
   "source": [
    "SGD: Stochastic Gradient Descent is an optimisation techique which is used to find the optimal weights for the model. It converges when it reaches the minima. Stochastic means random and in this technique also datapoints are choosed ra ndomly so it is known as Stochastic Gradient Descent."
   ]
  },
  {
   "cell_type": "code",
   "execution_count": 89,
   "metadata": {},
   "outputs": [],
   "source": [
    "# Importing required libraries\n",
    "from sklearn.datasets import load_boston\n",
    "import pandas as pd\n",
    "import matplotlib.pyplot as plt\n",
    "import numpy as np\n",
    "from sklearn.preprocessing import StandardScaler\n",
    "from math import sqrt\n",
    "from prettytable import PrettyTable\n",
    "from sklearn.linear_model import SGDRegressor\n",
    "from sklearn.metrics import mean_squared_error"
   ]
  },
  {
   "cell_type": "markdown",
   "metadata": {},
   "source": [
    "##### Loading Boston Data"
   ]
  },
  {
   "cell_type": "code",
   "execution_count": 42,
   "metadata": {},
   "outputs": [],
   "source": [
    "boston = load_boston() # Loading Boston Dataset"
   ]
  },
  {
   "cell_type": "code",
   "execution_count": 43,
   "metadata": {},
   "outputs": [
    {
     "name": "stdout",
     "output_type": "stream",
     "text": [
      "(506, 13)\n"
     ]
    }
   ],
   "source": [
    "print(boston.data.shape) # Shape of the dataset"
   ]
  },
  {
   "cell_type": "code",
   "execution_count": 44,
   "metadata": {},
   "outputs": [
    {
     "name": "stdout",
     "output_type": "stream",
     "text": [
      "['CRIM' 'ZN' 'INDUS' 'CHAS' 'NOX' 'RM' 'AGE' 'DIS' 'RAD' 'TAX' 'PTRATIO'\n",
      " 'B' 'LSTAT']\n"
     ]
    }
   ],
   "source": [
    "print(boston.feature_names) #Feature names"
   ]
  },
  {
   "cell_type": "code",
   "execution_count": 45,
   "metadata": {},
   "outputs": [],
   "source": [
    "data = boston.data    \n",
    "boston_df = pd.DataFrame(data)\n",
    "X = boston_df  \n",
    "Y = boston.target"
   ]
  },
  {
   "cell_type": "markdown",
   "metadata": {},
   "source": [
    "##### Standardisation"
   ]
  },
  {
   "cell_type": "code",
   "execution_count": 46,
   "metadata": {},
   "outputs": [],
   "source": [
    "#Standardisation of the dataset\n",
    "sc = StandardScaler()\n",
    "dataset = sc.fit_transform(X)"
   ]
  },
  {
   "cell_type": "markdown",
   "metadata": {},
   "source": [
    "## SGD from Scratch"
   ]
  },
  {
   "cell_type": "code",
   "execution_count": 139,
   "metadata": {},
   "outputs": [],
   "source": [
    "# Building SGD from Scratch\n",
    "def Sgd_Scratch(X,Y,w,lr=0.01,iteration=50):\n",
    "    \n",
    "    length = len(Y) #  length of the data set\n",
    "\n",
    "    for iter in range(iteration): # iteration \n",
    "        sum_error = 0\n",
    "        \n",
    "        for i in range(length):\n",
    "            batch_size = np.random.randint(0,length)  # randomising batch size for every iteration \n",
    "            Xi = X[batch_size,:].reshape(1,X.shape[1])\n",
    "            Yi = Y[batch_size].reshape(1,1)\n",
    "            pred = np.dot(Xi,w)            \n",
    "            #Calculating error\n",
    "            error = pred - Yi \n",
    "            sum_error += error**2          \n",
    "            #Updating weight            \n",
    "            w = w -(2/length)*lr*( Xi.T.dot((pred - Yi)))\n",
    "        \n",
    "        print('---> Iteration number =%d, learning rate=%.5f, error=%.5f' % (iter, lr, sum_error/length))\n",
    "                \n",
    "    return w\n",
    "\n"
   ]
  },
  {
   "cell_type": "code",
   "execution_count": 74,
   "metadata": {},
   "outputs": [],
   "source": [
    "def prediction(data,weight):\n",
    "    \"\"\"Predicting y hat using data X and optimal weights\"\"\"\n",
    "    y_pred = data.dot(weight)\n",
    "    y_pred = y_pred.ravel()\n",
    "    return y_pred"
   ]
  },
  {
   "cell_type": "markdown",
   "metadata": {},
   "source": [
    "#### Getting optimal weights"
   ]
  },
  {
   "cell_type": "code",
   "execution_count": 140,
   "metadata": {},
   "outputs": [
    {
     "name": "stdout",
     "output_type": "stream",
     "text": [
      "(506, 14)\n",
      "---> Iteration number =0, learning rate=0.10000, error=387.91337\n",
      "---> Iteration number =1, learning rate=0.10000, error=271.83991\n",
      "---> Iteration number =2, learning rate=0.10000, error=184.76785\n",
      "---> Iteration number =3, learning rate=0.10000, error=143.78593\n",
      "---> Iteration number =4, learning rate=0.10000, error=101.27270\n",
      "---> Iteration number =5, learning rate=0.10000, error=80.75105\n",
      "---> Iteration number =6, learning rate=0.10000, error=51.93813\n",
      "---> Iteration number =7, learning rate=0.10000, error=46.30375\n",
      "---> Iteration number =8, learning rate=0.10000, error=33.79043\n",
      "---> Iteration number =9, learning rate=0.10000, error=33.89856\n",
      "---> Iteration number =10, learning rate=0.10000, error=23.15926\n",
      "---> Iteration number =11, learning rate=0.10000, error=38.64851\n",
      "---> Iteration number =12, learning rate=0.10000, error=25.56241\n",
      "---> Iteration number =13, learning rate=0.10000, error=24.24972\n",
      "---> Iteration number =14, learning rate=0.10000, error=30.04777\n",
      "---> Iteration number =15, learning rate=0.10000, error=21.23551\n",
      "---> Iteration number =16, learning rate=0.10000, error=26.92245\n",
      "---> Iteration number =17, learning rate=0.10000, error=21.83902\n",
      "---> Iteration number =18, learning rate=0.10000, error=18.98726\n",
      "---> Iteration number =19, learning rate=0.10000, error=19.82494\n",
      "---> Iteration number =20, learning rate=0.10000, error=25.36865\n",
      "---> Iteration number =21, learning rate=0.10000, error=24.72091\n",
      "---> Iteration number =22, learning rate=0.10000, error=21.80674\n",
      "---> Iteration number =23, learning rate=0.10000, error=24.64955\n",
      "---> Iteration number =24, learning rate=0.10000, error=18.67857\n",
      "---> Iteration number =25, learning rate=0.10000, error=28.74417\n",
      "---> Iteration number =26, learning rate=0.10000, error=23.50156\n",
      "---> Iteration number =27, learning rate=0.10000, error=30.57182\n",
      "---> Iteration number =28, learning rate=0.10000, error=17.79253\n",
      "---> Iteration number =29, learning rate=0.10000, error=23.54137\n",
      "---> Iteration number =30, learning rate=0.10000, error=25.86312\n",
      "---> Iteration number =31, learning rate=0.10000, error=19.31217\n",
      "---> Iteration number =32, learning rate=0.10000, error=21.85456\n",
      "---> Iteration number =33, learning rate=0.10000, error=18.73343\n",
      "---> Iteration number =34, learning rate=0.10000, error=16.72024\n",
      "---> Iteration number =35, learning rate=0.10000, error=22.85473\n",
      "---> Iteration number =36, learning rate=0.10000, error=27.39884\n",
      "---> Iteration number =37, learning rate=0.10000, error=19.53555\n",
      "---> Iteration number =38, learning rate=0.10000, error=25.14709\n",
      "---> Iteration number =39, learning rate=0.10000, error=26.84591\n",
      "---> Iteration number =40, learning rate=0.10000, error=22.10724\n",
      "---> Iteration number =41, learning rate=0.10000, error=21.40446\n",
      "---> Iteration number =42, learning rate=0.10000, error=22.20266\n",
      "---> Iteration number =43, learning rate=0.10000, error=21.28584\n",
      "---> Iteration number =44, learning rate=0.10000, error=19.38789\n",
      "---> Iteration number =45, learning rate=0.10000, error=20.32694\n",
      "---> Iteration number =46, learning rate=0.10000, error=23.17076\n",
      "---> Iteration number =47, learning rate=0.10000, error=18.25411\n",
      "---> Iteration number =48, learning rate=0.10000, error=22.23444\n",
      "---> Iteration number =49, learning rate=0.10000, error=17.95258\n",
      "---> Iteration number =50, learning rate=0.10000, error=25.05483\n",
      "---> Iteration number =51, learning rate=0.10000, error=21.51552\n",
      "---> Iteration number =52, learning rate=0.10000, error=22.00349\n",
      "---> Iteration number =53, learning rate=0.10000, error=20.48985\n",
      "---> Iteration number =54, learning rate=0.10000, error=19.08780\n",
      "---> Iteration number =55, learning rate=0.10000, error=19.38128\n",
      "---> Iteration number =56, learning rate=0.10000, error=19.87841\n",
      "---> Iteration number =57, learning rate=0.10000, error=20.83185\n",
      "---> Iteration number =58, learning rate=0.10000, error=19.12490\n",
      "---> Iteration number =59, learning rate=0.10000, error=22.61359\n",
      "---> Iteration number =60, learning rate=0.10000, error=22.42899\n",
      "---> Iteration number =61, learning rate=0.10000, error=26.72294\n",
      "---> Iteration number =62, learning rate=0.10000, error=21.71200\n",
      "---> Iteration number =63, learning rate=0.10000, error=23.46080\n",
      "---> Iteration number =64, learning rate=0.10000, error=22.61311\n",
      "---> Iteration number =65, learning rate=0.10000, error=22.24082\n",
      "---> Iteration number =66, learning rate=0.10000, error=21.07876\n",
      "---> Iteration number =67, learning rate=0.10000, error=24.66213\n",
      "---> Iteration number =68, learning rate=0.10000, error=23.98733\n",
      "---> Iteration number =69, learning rate=0.10000, error=22.75371\n",
      "---> Iteration number =70, learning rate=0.10000, error=23.18868\n",
      "---> Iteration number =71, learning rate=0.10000, error=19.09699\n",
      "---> Iteration number =72, learning rate=0.10000, error=21.67430\n",
      "---> Iteration number =73, learning rate=0.10000, error=18.16832\n",
      "---> Iteration number =74, learning rate=0.10000, error=22.31049\n",
      "---> Iteration number =75, learning rate=0.10000, error=20.91924\n",
      "---> Iteration number =76, learning rate=0.10000, error=24.24272\n",
      "---> Iteration number =77, learning rate=0.10000, error=19.81321\n",
      "---> Iteration number =78, learning rate=0.10000, error=18.92037\n",
      "---> Iteration number =79, learning rate=0.10000, error=20.48232\n",
      "---> Iteration number =80, learning rate=0.10000, error=27.46790\n",
      "---> Iteration number =81, learning rate=0.10000, error=19.11663\n",
      "---> Iteration number =82, learning rate=0.10000, error=21.92734\n",
      "---> Iteration number =83, learning rate=0.10000, error=21.29330\n",
      "---> Iteration number =84, learning rate=0.10000, error=25.70953\n",
      "---> Iteration number =85, learning rate=0.10000, error=20.54161\n",
      "---> Iteration number =86, learning rate=0.10000, error=21.15318\n",
      "---> Iteration number =87, learning rate=0.10000, error=21.97344\n",
      "---> Iteration number =88, learning rate=0.10000, error=22.76134\n",
      "---> Iteration number =89, learning rate=0.10000, error=22.71197\n",
      "---> Iteration number =90, learning rate=0.10000, error=21.53512\n",
      "---> Iteration number =91, learning rate=0.10000, error=22.35854\n",
      "---> Iteration number =92, learning rate=0.10000, error=21.34431\n",
      "---> Iteration number =93, learning rate=0.10000, error=20.57555\n",
      "---> Iteration number =94, learning rate=0.10000, error=22.81224\n",
      "---> Iteration number =95, learning rate=0.10000, error=23.71835\n",
      "---> Iteration number =96, learning rate=0.10000, error=22.74919\n",
      "---> Iteration number =97, learning rate=0.10000, error=21.15464\n",
      "---> Iteration number =98, learning rate=0.10000, error=22.09421\n",
      "---> Iteration number =99, learning rate=0.10000, error=22.78852\n",
      "---> Iteration number =100, learning rate=0.10000, error=25.31295\n",
      "---> Iteration number =101, learning rate=0.10000, error=24.01192\n",
      "---> Iteration number =102, learning rate=0.10000, error=23.30160\n",
      "---> Iteration number =103, learning rate=0.10000, error=23.15903\n",
      "---> Iteration number =104, learning rate=0.10000, error=20.15888\n",
      "---> Iteration number =105, learning rate=0.10000, error=20.59562\n",
      "---> Iteration number =106, learning rate=0.10000, error=21.19763\n",
      "---> Iteration number =107, learning rate=0.10000, error=19.12123\n",
      "---> Iteration number =108, learning rate=0.10000, error=20.94634\n",
      "---> Iteration number =109, learning rate=0.10000, error=25.91277\n",
      "---> Iteration number =110, learning rate=0.10000, error=18.50220\n",
      "---> Iteration number =111, learning rate=0.10000, error=23.06773\n",
      "---> Iteration number =112, learning rate=0.10000, error=28.14524\n",
      "---> Iteration number =113, learning rate=0.10000, error=22.94325\n",
      "---> Iteration number =114, learning rate=0.10000, error=21.34596\n",
      "---> Iteration number =115, learning rate=0.10000, error=24.80405\n",
      "---> Iteration number =116, learning rate=0.10000, error=16.98565\n",
      "---> Iteration number =117, learning rate=0.10000, error=26.02131\n",
      "---> Iteration number =118, learning rate=0.10000, error=22.90795\n",
      "---> Iteration number =119, learning rate=0.10000, error=22.16706\n",
      "---> Iteration number =120, learning rate=0.10000, error=21.52872\n",
      "---> Iteration number =121, learning rate=0.10000, error=27.10057\n",
      "---> Iteration number =122, learning rate=0.10000, error=19.41887\n",
      "---> Iteration number =123, learning rate=0.10000, error=19.13695\n",
      "---> Iteration number =124, learning rate=0.10000, error=20.03944\n",
      "---> Iteration number =125, learning rate=0.10000, error=20.74977\n",
      "---> Iteration number =126, learning rate=0.10000, error=19.95417\n",
      "---> Iteration number =127, learning rate=0.10000, error=19.23542\n",
      "---> Iteration number =128, learning rate=0.10000, error=23.21667\n",
      "---> Iteration number =129, learning rate=0.10000, error=21.11693\n"
     ]
    },
    {
     "name": "stdout",
     "output_type": "stream",
     "text": [
      "---> Iteration number =130, learning rate=0.10000, error=20.57446\n",
      "---> Iteration number =131, learning rate=0.10000, error=22.64060\n",
      "---> Iteration number =132, learning rate=0.10000, error=22.12773\n",
      "---> Iteration number =133, learning rate=0.10000, error=18.35749\n",
      "---> Iteration number =134, learning rate=0.10000, error=19.70247\n",
      "---> Iteration number =135, learning rate=0.10000, error=23.34333\n",
      "---> Iteration number =136, learning rate=0.10000, error=19.53856\n",
      "---> Iteration number =137, learning rate=0.10000, error=22.47153\n",
      "---> Iteration number =138, learning rate=0.10000, error=24.27590\n",
      "---> Iteration number =139, learning rate=0.10000, error=24.17444\n",
      "---> Iteration number =140, learning rate=0.10000, error=23.67769\n",
      "---> Iteration number =141, learning rate=0.10000, error=19.56588\n",
      "---> Iteration number =142, learning rate=0.10000, error=18.94164\n",
      "---> Iteration number =143, learning rate=0.10000, error=21.38877\n",
      "---> Iteration number =144, learning rate=0.10000, error=20.80553\n",
      "---> Iteration number =145, learning rate=0.10000, error=22.02261\n",
      "---> Iteration number =146, learning rate=0.10000, error=26.08204\n",
      "---> Iteration number =147, learning rate=0.10000, error=21.77291\n",
      "---> Iteration number =148, learning rate=0.10000, error=22.24886\n",
      "---> Iteration number =149, learning rate=0.10000, error=20.21219\n",
      "---> Iteration number =150, learning rate=0.10000, error=19.20581\n",
      "---> Iteration number =151, learning rate=0.10000, error=24.90086\n",
      "---> Iteration number =152, learning rate=0.10000, error=27.08524\n",
      "---> Iteration number =153, learning rate=0.10000, error=22.80295\n",
      "---> Iteration number =154, learning rate=0.10000, error=23.01770\n",
      "---> Iteration number =155, learning rate=0.10000, error=22.52854\n",
      "---> Iteration number =156, learning rate=0.10000, error=26.87560\n",
      "---> Iteration number =157, learning rate=0.10000, error=24.72545\n",
      "---> Iteration number =158, learning rate=0.10000, error=22.52488\n",
      "---> Iteration number =159, learning rate=0.10000, error=25.32486\n",
      "---> Iteration number =160, learning rate=0.10000, error=26.05985\n",
      "---> Iteration number =161, learning rate=0.10000, error=21.72040\n",
      "---> Iteration number =162, learning rate=0.10000, error=23.16207\n",
      "---> Iteration number =163, learning rate=0.10000, error=19.75180\n",
      "---> Iteration number =164, learning rate=0.10000, error=27.56428\n",
      "---> Iteration number =165, learning rate=0.10000, error=23.03289\n",
      "---> Iteration number =166, learning rate=0.10000, error=23.51599\n",
      "---> Iteration number =167, learning rate=0.10000, error=21.30624\n",
      "---> Iteration number =168, learning rate=0.10000, error=23.78005\n",
      "---> Iteration number =169, learning rate=0.10000, error=19.92005\n",
      "---> Iteration number =170, learning rate=0.10000, error=25.87871\n",
      "---> Iteration number =171, learning rate=0.10000, error=19.47239\n",
      "---> Iteration number =172, learning rate=0.10000, error=19.58982\n",
      "---> Iteration number =173, learning rate=0.10000, error=21.65497\n",
      "---> Iteration number =174, learning rate=0.10000, error=19.20657\n",
      "---> Iteration number =175, learning rate=0.10000, error=18.64588\n",
      "---> Iteration number =176, learning rate=0.10000, error=24.17099\n",
      "---> Iteration number =177, learning rate=0.10000, error=20.37866\n",
      "---> Iteration number =178, learning rate=0.10000, error=23.39794\n",
      "---> Iteration number =179, learning rate=0.10000, error=24.69992\n",
      "---> Iteration number =180, learning rate=0.10000, error=20.67239\n",
      "---> Iteration number =181, learning rate=0.10000, error=21.70836\n",
      "---> Iteration number =182, learning rate=0.10000, error=20.92555\n",
      "---> Iteration number =183, learning rate=0.10000, error=20.54923\n",
      "---> Iteration number =184, learning rate=0.10000, error=21.36600\n",
      "---> Iteration number =185, learning rate=0.10000, error=21.94169\n",
      "---> Iteration number =186, learning rate=0.10000, error=23.05142\n",
      "---> Iteration number =187, learning rate=0.10000, error=24.71527\n",
      "---> Iteration number =188, learning rate=0.10000, error=21.62396\n",
      "---> Iteration number =189, learning rate=0.10000, error=20.26797\n",
      "---> Iteration number =190, learning rate=0.10000, error=23.84851\n",
      "---> Iteration number =191, learning rate=0.10000, error=24.04914\n",
      "---> Iteration number =192, learning rate=0.10000, error=23.65270\n",
      "---> Iteration number =193, learning rate=0.10000, error=21.63151\n",
      "---> Iteration number =194, learning rate=0.10000, error=19.20229\n",
      "---> Iteration number =195, learning rate=0.10000, error=24.35358\n",
      "---> Iteration number =196, learning rate=0.10000, error=22.50277\n",
      "---> Iteration number =197, learning rate=0.10000, error=23.84012\n",
      "---> Iteration number =198, learning rate=0.10000, error=24.72383\n",
      "---> Iteration number =199, learning rate=0.10000, error=22.05161\n"
     ]
    },
    {
     "data": {
      "text/plain": [
       "(506, 14)"
      ]
     },
     "execution_count": 140,
     "metadata": {},
     "output_type": "execute_result"
    }
   ],
   "source": [
    "data = np.c_[np.ones((len(dataset),1)),dataset] #making the shape of data as (506,14)\n",
    "print(np.shape(data))\n",
    "lr =0.1 #learning_rate\n",
    "n_iter = 200 #no.of iterations\n",
    "initial_weight = np.random.randn(14,1)  #picking the initial random weights and intercept  \n",
    "optimal_weight = Sgd_Scratch(data,Y,initial_weight,lr,n_iter)\n",
    "np.shape(data)"
   ]
  },
  {
   "cell_type": "code",
   "execution_count": 141,
   "metadata": {},
   "outputs": [
    {
     "name": "stdout",
     "output_type": "stream",
     "text": [
      "Optimal Weights generated from SGD from scratch are: \n",
      "\n",
      "[[-1.01049012]\n",
      " [ 1.17066852]\n",
      " [ 0.07940135]\n",
      " [ 0.66715252]\n",
      " [-2.07051425]\n",
      " [ 2.46931733]\n",
      " [ 0.03893245]\n",
      " [-3.20073563]\n",
      " [ 2.59105203]\n",
      " [-1.9261196 ]\n",
      " [-2.17953028]\n",
      " [ 0.77483912]\n",
      " [-3.71072036]]\n",
      "\n",
      "Intercept for self implemented SGD:\n",
      "22.617593879337402\n"
     ]
    }
   ],
   "source": [
    "print('Optimal Weights generated from SGD from scratch are: \\n')\n",
    "print(optimal_weight[1:])\n",
    "\n",
    "print('\\nIntercept for self implemented SGD:')\n",
    "print(optimal_weight[0][0])"
   ]
  },
  {
   "cell_type": "code",
   "execution_count": 143,
   "metadata": {},
   "outputs": [
    {
     "name": "stdout",
     "output_type": "stream",
     "text": [
      "Mean squared error using SGD from Scratch: \n",
      "\n",
      "21.967053511387434\n"
     ]
    }
   ],
   "source": [
    "#Calculating mean squared error.\n",
    "print(\"Mean squared error using SGD from Scratch: \\n\")\n",
    "print(mean_squared_error(Y, prediction(data,optimal_weight)))"
   ]
  },
  {
   "cell_type": "code",
   "execution_count": 153,
   "metadata": {},
   "outputs": [
    {
     "data": {
      "image/png": "[encoded data removed]",
      "text/plain": [
       "<Figure size 432x288 with 1 Axes>"
      ]
     },
     "metadata": {},
     "output_type": "display_data"
    }
   ],
   "source": [
    "#Plotting Actual Y and predicted Y\n",
    "plt.title(\"Output of SGD from scratch\")\n",
    "plt.scatter(Y,prediction(data,optimal_weight))\n",
    "plt.xlabel(\"Original Y\")\n",
    "plt.ylabel(\"Predicted Y\")\n",
    "plt.show()"
   ]
  },
  {
   "cell_type": "markdown",
   "metadata": {},
   "source": [
    "## SGD from SKlearn"
   ]
  },
  {
   "cell_type": "code",
   "execution_count": 145,
   "metadata": {
    "scrolled": true
   },
   "outputs": [
    {
     "name": "stdout",
     "output_type": "stream",
     "text": [
      "[-0.68834297  0.64139974 -0.28220295  0.71277343 -0.94900192  3.06755025\n",
      " -0.11553919 -2.29518843  0.94347728 -0.48653237 -1.71886155  0.86126053\n",
      " -3.38902041]\n"
     ]
    },
    {
     "name": "stderr",
     "output_type": "stream",
     "text": [
      "C:\\ProgramData\\Anaconda3\\lib\\site-packages\\sklearn\\linear_model\\stochastic_gradient.py:128: FutureWarning: max_iter and tol parameters have been added in <class 'sklearn.linear_model.stochastic_gradient.SGDRegressor'> in 0.19. If both are left unset, they default to max_iter=5 and tol=None. If tol is not None, max_iter defaults to max_iter=1000. From 0.21, default max_iter will be 1000, and default tol will be 1e-3.\n",
      "  \"and default tol will be 1e-3.\" % type(self), FutureWarning)\n"
     ]
    }
   ],
   "source": [
    "clf = SGDRegressor()\n",
    "clf.fit(dataset, Y)\n",
    "print(clf.coef_) #printing coefficients"
   ]
  },
  {
   "cell_type": "code",
   "execution_count": 146,
   "metadata": {},
   "outputs": [
    {
     "name": "stdout",
     "output_type": "stream",
     "text": [
      "Mean squared error using SGD from Sklearn: \n",
      "\n",
      "22.93461804033045\n"
     ]
    }
   ],
   "source": [
    "#Mean squared error\n",
    "print(\"Mean squared error using SGD from Sklearn: \\n\")\n",
    "print(mean_squared_error(Y, clf.predict(dataset)))\n"
   ]
  },
  {
   "cell_type": "code",
   "execution_count": 154,
   "metadata": {},
   "outputs": [
    {
     "data": {
      "image/png": "[encoded data removed]",
      "text/plain": [
       "<Figure size 432x288 with 1 Axes>"
      ]
     },
     "metadata": {},
     "output_type": "display_data"
    }
   ],
   "source": [
    "#Plotting Actual Y and predicted Y\n",
    "plt.title(\"Output of SGD from Sklearn\")\n",
    "plt.scatter(Y,clf.predict(dataset))\n",
    "plt.xlabel(\"Original Y\")\n",
    "plt.ylabel(\"Predicted Y\")\n",
    "plt.show()"
   ]
  },
  {
   "cell_type": "markdown",
   "metadata": {},
   "source": [
    "## Conclusion"
   ]
  },
  {
   "cell_type": "code",
   "execution_count": 147,
   "metadata": {},
   "outputs": [
    {
     "name": "stdout",
     "output_type": "stream",
     "text": [
      "Coefficients as per scratch model and sklearn model \n",
      "\n",
      "SGD Scratch   SGD Sklearn \n",
      "\n",
      "[-1.01049012]      -0.6883429706682378 \n",
      "\n",
      "[1.17066852]      0.6413997414108491 \n",
      "\n",
      "[0.07940135]      -0.2822029536574523 \n",
      "\n",
      "[0.66715252]      0.7127734320270798 \n",
      "\n",
      "[-2.07051425]      -0.949001921421888 \n",
      "\n",
      "[2.46931733]      3.067550247190174 \n",
      "\n",
      "[0.03893245]      -0.11553919362906341 \n",
      "\n",
      "[-3.20073563]      -2.2951884318953746 \n",
      "\n",
      "[2.59105203]      0.9434772823485562 \n",
      "\n",
      "[-1.9261196]      -0.4865323679254272 \n",
      "\n",
      "[-2.17953028]      -1.7188615543053676 \n",
      "\n",
      "[0.77483912]      0.8612605286273537 \n",
      "\n",
      "[-3.71072036]      -3.389020407486376 \n",
      "\n"
     ]
    }
   ],
   "source": [
    "sgdscratch=list(optimal_weight[1:])\n",
    "sgdsklearn=list(clf.coef_)\n",
    "print(\"Coefficients as per scratch model and sklearn model \\n\")\n",
    "print(\"SGD Scratch   SGD Sklearn \\n\")\n",
    "for i in range(0,13):\n",
    "    \n",
    "    print(sgdscratch[i],\"    \",sgdsklearn[i],\"\\n\")"
   ]
  },
  {
   "cell_type": "code",
   "execution_count": 148,
   "metadata": {},
   "outputs": [
    {
     "name": "stdout",
     "output_type": "stream",
     "text": [
      "+-------------+--------------------+\n",
      "| Type of SGD | Mean Squared Error |\n",
      "+-------------+--------------------+\n",
      "|   Sklearn   | 22.93461804033045  |\n",
      "| SGD Scratch | 21.967053511387434 |\n",
      "+-------------+--------------------+\n"
     ]
    }
   ],
   "source": [
    "pretty = PrettyTable([\"Type of SGD\",\"Mean Squared Error\"])\n",
    "\n",
    "pretty.add_row([\"Sklearn\",22.93461804033045])\n",
    "pretty.add_row([\"SGD Scratch\",21.967053511387434])\n",
    "\n",
    "print(pretty)"
   ]
  },
  {
   "cell_type": "markdown",
   "metadata": {},
   "source": [
    "**Observations:** The MSE for both the SGDs are very close but when ran multiple times with **different learning** rates sometimes Sklearn performs a bit better and sometime SGD from scratch. The optimal weights and intercept is also very similar for both the models."
   ]
  },
  {
   "cell_type": "markdown",
   "metadata": {},
   "source": [
    "Thank YOU :)"
   ]
  }
 ],
 "metadata": {
  "kernelspec": {
   "display_name": "Python 3",
   "language": "python",
   "name": "python3"
  },
  "language_info": {
   "codemirror_mode": {
    "name": "ipython",
    "version": 3
   },
   "file_extension": ".py",
   "mimetype": "text/x-python",
   "name": "python",
   "nbconvert_exporter": "python",
   "pygments_lexer": "ipython3",
   "version": "3.6.5"
  }
 },
 "nbformat": 4,
 "nbformat_minor": 2
}
