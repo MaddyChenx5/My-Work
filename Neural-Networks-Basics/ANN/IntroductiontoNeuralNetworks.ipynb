{
  "nbformat": 4,
  "nbformat_minor": 0,
  "metadata": {
    "colab": {
      "name": "IntroductiontoNeuralNetworks.ipynb",
      "version": "0.3.2",
      "provenance": [],
      "collapsed_sections": []
    },
    "kernelspec": {
      "name": "python3",
      "display_name": "Python 3"
    },
    "accelerator": "GPU"
  },
  "cells": [
    {
      "cell_type": "markdown",
      "metadata": {
        "id": "9vEHPYg9Bw4R",
        "colab_type": "text"
      },
      "source": [
        "Deep Learning Neural networks introduction\n",
        "\n",
        "By : Maddy"
      ]
    },
    {
      "cell_type": "markdown",
      "metadata": {
        "id": "3D5Kl_ctB79a",
        "colab_type": "text"
      },
      "source": [
        "**Background**:\n",
        "\n",
        "The idea of neural network was first stirked in the year 1957 in the form of percetron(single neuron). In 1986 Hinton gave the concept of back propogation but at that time due to lack of resources the training of deep neural networks was not feasible then with the advancement of resources(memory and computation power) the neural networks got powerful and deeper."
      ]
    },
    {
      "cell_type": "markdown",
      "metadata": {
        "id": "i_yzKYmKB8AV",
        "colab_type": "text"
      },
      "source": [
        "**Inspiration**: \n",
        "\n",
        "Artificial neural networks are inspired by biological neural networks. Biological neuron has nucleus which acts as activation function and it has dendrites which acts as input vectors and the output is axon. The thicker the dendrite is the more important the feature is. And in artificial neural network the thickness of a dendrite is determined by the weight vector.\n",
        "Biological neural networks is a group of interconnected neurons.\n"
      ]
    },
    {
      "cell_type": "markdown",
      "metadata": {
        "id": "KKubH-9XB8DU",
        "colab_type": "text"
      },
      "source": [
        "**Logistic Regression and Preceptron:**\n",
        "\n",
        "Perceptron is a single artificial neural with threshold activation function on the other hand if we make this threshold activation into sigmoid then it will act as logistic regression."
      ]
    },
    {
      "cell_type": "markdown",
      "metadata": {
        "id": "fdtzZAd2B8F6",
        "colab_type": "text"
      },
      "source": [
        "**Why Multilayer Perceptron? **\n",
        "\n",
        "1. Biological Inspiration.\n",
        "\n",
        "2. Mathematical inspiration:  More the depth , more complex functions can be fitted into it."
      ]
    },
    {
      "cell_type": "markdown",
      "metadata": {
        "id": "GEvnWjvNH5SI",
        "colab_type": "text"
      },
      "source": [
        "**Training** a neural network means finding the best and optiomal weight vector."
      ]
    },
    {
      "cell_type": "markdown",
      "metadata": {
        "id": "jmdiKaZMIWy7",
        "colab_type": "text"
      },
      "source": [
        "**Back propogation:**\n",
        "\n",
        "1. **Initialize weights:** This can be done randomly or any method can be used.\n",
        "\n",
        "2. \n",
        "\n",
        "       2.1 Forward propogation:  Sending data forward through the network.\n",
        "       \n",
        "       2.2 At output compute loss.\n",
        "       \n",
        "       2.3 Compute all the required derivatives.\n",
        "       \n",
        "       2.4 Update weights starting from the end of the network.\n",
        "       \n",
        "3. Repeat step 2 till convergence.\n",
        "\n",
        "Convergence is when the new weight vector is similar to the old one.\n",
        "\n",
        "When all the training points traverse through the network once is known as one epoch.\n",
        "\n",
        "Back propogation only works when the activation function is differentiable.\n",
        "\n",
        "\n",
        "\n"
      ]
    },
    {
      "cell_type": "markdown",
      "metadata": {
        "id": "ZYXQVcbWH5Ux",
        "colab_type": "text"
      },
      "source": [
        "**Memoization**:\n",
        "\n",
        "If there is any operation that is used multiple times repeatedly then compute it once, store it and reuse it. In case of Back propogation some derivatives will be required again repeatedly so there memoization can be used."
      ]
    },
    {
      "cell_type": "markdown",
      "metadata": {
        "id": "S5xbwEw3KF96",
        "colab_type": "text"
      },
      "source": [
        "**Vanishing Gradients:**\n",
        "\n",
        "Multiplication of small derivatives leads to very smaller gradients and that means the change in new and old weight vector won't be there. This is vanishing gradient problem.\n",
        "\n",
        "**Exploding gradient:**\n",
        "\n",
        "When larger dervatives multiplies then the result is larges which do not let the weights to converge."
      ]
    },
    {
      "cell_type": "markdown",
      "metadata": {
        "id": "5CYLKmucLEKa",
        "colab_type": "text"
      },
      "source": [
        "**Activation Functions:**\n",
        "\n",
        "Provide non linearity to the network. Sigmoid and Tanh functions are differentiable and their derivative can be represented in their form itself.\n",
        "\n",
        "**RELU (Rectified Linear Units)**: To avoid vanishing and exploding gradient problem this is the most famous activation functions these days. f(z)=maz(0,z) Here also we have a dying relu problem so to overcome these there are other versions of relu such as leaky relu etc."
      ]
    },
    {
      "cell_type": "markdown",
      "metadata": {
        "id": "6hbn_yb0R4Nw",
        "colab_type": "text"
      },
      "source": [
        "**DroupOut**: Droupout technique is used as a regularization in deep neural networks so as to reduce overfitting. In this technique some of the neurons get shut down and they are not a part of any forward or backward pass in a particular iteration. But while testing all the neurons are present and their weights are mulltiplied with the frequency of activation while training."
      ]
    },
    {
      "cell_type": "markdown",
      "metadata": {
        "id": "_OeG7-5gS2sK",
        "colab_type": "text"
      },
      "source": [
        "**Batch Normalization**:  It refers to implementation of normalisation in deep layers of neural networks. As the networks gets complex the inputs of subsequent layers starts to get shift from the original scale so by normalising the inputs of some layers this can be avoided. This shifting is known as internal covariate shift. Batch Normalization helps in training the model faster as larger learning rate can be used and it also acts as weak regularizer. It performs shifting and scaling using alpha and beta parameters while are to be learned while training. \n",
        "BN : alpha*xi' + beta. Here alpha and beta are parameters which are learned while training.\n"
      ]
    },
    {
      "cell_type": "markdown",
      "metadata": {
        "id": "YjIf3XH0TaMo",
        "colab_type": "text"
      },
      "source": [
        "**Softmax Activation:** This is used in the final output layer of the network in case of multiple class classification. It gives the probality of output's belongingness to different classes."
      ]
    },
    {
      "cell_type": "markdown",
      "metadata": {
        "id": "ghx_xVcFT0RM",
        "colab_type": "text"
      },
      "source": [
        "**Epoch**: When whole of the input data itrerate once through the network is known as one epoch."
      ]
    },
    {
      "cell_type": "markdown",
      "metadata": {
        "id": "XSdJI-QDV1Sa",
        "colab_type": "text"
      },
      "source": [
        "**Weight Initialization: **This is very important as this can decide that which way our model should work. initial weights should not be biased. There are different techniques for weight initialization such as Uniform Initilization, Xavier/Glorot Initialization , He Iniatialization etc.\n",
        "\n",
        "These uses two terms fan-in and fan-out:\n",
        "\n",
        "**Fan-in**: Number of inputs to a neuron.\n",
        "\n",
        "**Fan-out**: Number of outputs from a neuron."
      ]
    },
    {
      "cell_type": "markdown",
      "metadata": {
        "id": "cog08zP9Wfsm",
        "colab_type": "text"
      },
      "source": [
        "**Optimizers**: The way to reach convergence i.e minima or maxima.\n",
        "\n",
        "**Convex function:** These functions have only one minima or one maxima.\n",
        "\n",
        "**Non-convex function:**  These function have multiple minima and maxima known as local minima and maxima.\n",
        "\n",
        "At minima and maxima the slope is 0. But at saddle point also the slope is 0. So weight initialization play a important role here..\n",
        "\n",
        "**SGD: Stochastic Gradient Descent:** This is a technique to update weights using gradients(slope) ti reach the convergence point.\n",
        "\n",
        "**Momentum**: This is a technique used to faster the convergence speed and uses the concept of weighted sum. It has a parameter alpha that can be between 0 to 1.\n",
        "\n",
        "**Vt = Alpha Vt-1 + learning rate. gradient**\n",
        "\n",
        "**Wt = Wt-1 - Vt**\n",
        "\n",
        "**Nesterov Accelerated Gradient (NAG)**: This is just a modification of above . It first calculates momentum and then gradient over that.\n",
        "ALmost both the approaches' results are similar.\n",
        "\n",
        "**AdaGrad (Adaptive Gradients):** It tweaks with the learning i.e it makes the learning rate adaptive as per the gradients. So no need to manually tune the learning rate. But sometime it can lead to very small learning rate resulting in slower convergence.\n",
        "\n",
        "**Adadelta:** This optimizer overcomes the problems of adagrad i.e very small learning rates. It uses Exponentially Decaying Averages of gradients to calculate learning rates.\n",
        "\n",
        "**Adam**: It uses Exponiantially decaying Averages of gradients and gradient squares. It is the most famous and fast optimizer of today."
      ]
    },
    {
      "cell_type": "markdown",
      "metadata": {
        "id": "HPuOGhVVKGDU",
        "colab_type": "text"
      },
      "source": [
        "**Bias variance tradeoff Neural Networks:**\n",
        "\n",
        "If number of layers increases there will be more weight and that leads to overfitting and higher variance.\n",
        "\n",
        "If the number of layers is less then less weights will be there and that leads to underfitting and higher bias."
      ]
    },
    {
      "cell_type": "markdown",
      "metadata": {
        "id": "v4J-trNtH5P2",
        "colab_type": "text"
      },
      "source": [
        "-----"
      ]
    },
    {
      "cell_type": "code",
      "metadata": {
        "id": "x-BkeVesBsVI",
        "colab_type": "code",
        "outputId": "4add2d02-9c85-41f5-e3d6-e14cedfd4910",
        "colab": {
          "base_uri": "https://localhost:8080/",
          "height": 35
        }
      },
      "source": [
        "#importing dependencies\n",
        "from keras.utils import np_utils \n",
        "from keras.datasets import mnist \n",
        "import seaborn as sns\n",
        "from keras.initializers import RandomNormal\n",
        "from keras.models import Sequential \n",
        "from keras.layers import Dense, Activation \n",
        "import matplotlib.pyplot as plt\n",
        "import numpy as np\n",
        "import time\n",
        "from keras.layers import Dropout\n",
        "from keras.layers.normalization import BatchNormalization"
      ],
      "execution_count": 0,
      "outputs": [
        {
          "output_type": "stream",
          "text": [
            "Using TensorFlow backend.\n"
          ],
          "name": "stderr"
        }
      ]
    },
    {
      "cell_type": "code",
      "metadata": {
        "id": "DlgaCE-CMkQe",
        "colab_type": "code",
        "colab": {}
      },
      "source": [
        "%matplotlib inline\n",
        "# https://gist.github.com/greydanus/f6eee59eaf1d90fcb3b534a25362cea4\n",
        "# https://stackoverflow.com/a/14434334\n",
        "# this function is used to update the plots for each epoch and error\n",
        "def plt_dynamic(x, vy, ty, ax, colors=['b']):\n",
        "    ax.plot(x, vy, 'b', label=\"Validation Loss\")\n",
        "    ax.plot(x, ty, 'r', label=\"Train Loss\")\n",
        "    plt.legend()\n",
        "    plt.grid()\n",
        "    fig.canvas.draw()"
      ],
      "execution_count": 0,
      "outputs": []
    },
    {
      "cell_type": "code",
      "metadata": {
        "id": "1eOpxHxpMpOC",
        "colab_type": "code",
        "outputId": "66eaf804-9fa2-4944-8261-5366d81c93c2",
        "colab": {
          "base_uri": "https://localhost:8080/",
          "height": 52
        }
      },
      "source": [
        "# the data, shuffled and split between train and test sets \n",
        "(X_train, y_train), (X_test, y_test) = mnist.load_data()"
      ],
      "execution_count": 0,
      "outputs": [
        {
          "output_type": "stream",
          "text": [
            "Downloading data from https://s3.amazonaws.com/img-datasets/mnist.npz\n",
            "11493376/11490434 [==============================] - 0s 0us/step\n"
          ],
          "name": "stdout"
        }
      ]
    },
    {
      "cell_type": "code",
      "metadata": {
        "id": "uNqOfcHAMtkp",
        "colab_type": "code",
        "outputId": "5edebb43-7ea4-4d5e-ba55-70bf96912626",
        "colab": {
          "base_uri": "https://localhost:8080/",
          "height": 52
        }
      },
      "source": [
        "print(\"Number of training examples :\", X_train.shape[0], \"and each image is of shape (%d, %d)\"%(X_train.shape[1], X_train.shape[2]))\n",
        "print(\"Number of training examples :\", X_test.shape[0], \"and each image is of shape (%d, %d)\"%(X_test.shape[1], X_test.shape[2]))"
      ],
      "execution_count": 0,
      "outputs": [
        {
          "output_type": "stream",
          "text": [
            "Number of training examples : 60000 and each image is of shape (28, 28)\n",
            "Number of training examples : 10000 and each image is of shape (28, 28)\n"
          ],
          "name": "stdout"
        }
      ]
    },
    {
      "cell_type": "code",
      "metadata": {
        "id": "hbvQC5H0Mz8I",
        "colab_type": "code",
        "colab": {}
      },
      "source": [
        "X_train = X_train.reshape(X_train.shape[0], X_train.shape[1]*X_train.shape[2]) \n",
        "X_test = X_test.reshape(X_test.shape[0], X_test.shape[1]*X_test.shape[2]) "
      ],
      "execution_count": 0,
      "outputs": []
    },
    {
      "cell_type": "code",
      "metadata": {
        "id": "HadbNgKTM3LL",
        "colab_type": "code",
        "outputId": "cb424325-0a82-4653-8f48-4229bcd93623",
        "colab": {
          "base_uri": "https://localhost:8080/",
          "height": 52
        }
      },
      "source": [
        "print(\"Number of training examples :\", X_train.shape[0], \"and each image is of shape (%d)\"%(X_train.shape[1]))\n",
        "print(\"Number of training examples :\", X_test.shape[0], \"and each image is of shape (%d)\"%(X_test.shape[1]))"
      ],
      "execution_count": 0,
      "outputs": [
        {
          "output_type": "stream",
          "text": [
            "Number of training examples : 60000 and each image is of shape (784)\n",
            "Number of training examples : 10000 and each image is of shape (784)\n"
          ],
          "name": "stdout"
        }
      ]
    },
    {
      "cell_type": "code",
      "metadata": {
        "id": "08nmz3mFM3RY",
        "colab_type": "code",
        "colab": {}
      },
      "source": [
        "#Normalization\n",
        "X_train = X_train/255\n",
        "X_test = X_test/255"
      ],
      "execution_count": 0,
      "outputs": []
    },
    {
      "cell_type": "code",
      "metadata": {
        "id": "vJzNVVgLM3Up",
        "colab_type": "code",
        "outputId": "be8602e5-6a8b-4db3-b3aa-3a591b5024bd",
        "colab": {
          "base_uri": "https://localhost:8080/",
          "height": 52
        }
      },
      "source": [
        "# here we are having a class number for each image\n",
        "print(\"Class label of first image :\", y_train[0])\n",
        "\n",
        "# lets convert this into a 10 dimensional vector\n",
        "# ex: consider an image is 5 convert it into 5 => [0, 0, 0, 0, 0, 1, 0, 0, 0, 0]\n",
        "# this conversion needed for MLPs \n",
        "\n",
        "Y_train = np_utils.to_categorical(y_train, 10) \n",
        "Y_test = np_utils.to_categorical(y_test, 10)\n",
        "\n",
        "print(\"After converting the output into a vector : \",Y_train[0])"
      ],
      "execution_count": 0,
      "outputs": [
        {
          "output_type": "stream",
          "text": [
            "Class label of first image : 5\n",
            "After converting the output into a vector :  [0. 0. 0. 0. 0. 1. 0. 0. 0. 0.]\n"
          ],
          "name": "stdout"
        }
      ]
    },
    {
      "cell_type": "code",
      "metadata": {
        "id": "-ufsRPGZM3X6",
        "colab_type": "code",
        "colab": {}
      },
      "source": [
        "# some model parameters\n",
        "\n",
        "output_dim = 10\n",
        "input_dim = X_train.shape[1]\n",
        "batch_size = 128 \n",
        "nb_epoch = 20"
      ],
      "execution_count": 0,
      "outputs": []
    },
    {
      "cell_type": "code",
      "metadata": {
        "id": "BoL71g51Oqjl",
        "colab_type": "code",
        "outputId": "fd477bba-acbd-4ba3-86d1-33babfb5cb18",
        "colab": {
          "base_uri": "https://localhost:8080/",
          "height": 575
        }
      },
      "source": [
        "# Multilayer perceptron first type\n",
        "\n",
        "model_first = Sequential()\n",
        "model_first.add(Dense(512, activation='relu', input_shape=(input_dim,)))\n",
        "model_first.add(BatchNormalization())\n",
        "model_first.add(Dropout(0.5))\n",
        "\n",
        "model_first.add(Dense(128, activation='relu'))\n",
        "model_first.add(BatchNormalization())\n",
        "model_first.add(Dropout(0.5))\n",
        "\n",
        "model_first.add(Dense(64, activation='relu'))\n",
        "model_first.add(BatchNormalization())\n",
        "\n",
        "model_first.add(Dense(output_dim, activation='softmax'))\n",
        "\n",
        "model_first.summary()"
      ],
      "execution_count": 0,
      "outputs": [
        {
          "output_type": "stream",
          "text": [
            "WARNING:tensorflow:From /usr/local/lib/python3.6/dist-packages/tensorflow/python/framework/op_def_library.py:263: colocate_with (from tensorflow.python.framework.ops) is deprecated and will be removed in a future version.\n",
            "Instructions for updating:\n",
            "Colocations handled automatically by placer.\n",
            "WARNING:tensorflow:From /usr/local/lib/python3.6/dist-packages/keras/backend/tensorflow_backend.py:3445: calling dropout (from tensorflow.python.ops.nn_ops) with keep_prob is deprecated and will be removed in a future version.\n",
            "Instructions for updating:\n",
            "Please use `rate` instead of `keep_prob`. Rate should be set to `rate = 1 - keep_prob`.\n",
            "_________________________________________________________________\n",
            "Layer (type)                 Output Shape              Param #   \n",
            "=================================================================\n",
            "dense_1 (Dense)              (None, 512)               401920    \n",
            "_________________________________________________________________\n",
            "batch_normalization_1 (Batch (None, 512)               2048      \n",
            "_________________________________________________________________\n",
            "dropout_1 (Dropout)          (None, 512)               0         \n",
            "_________________________________________________________________\n",
            "dense_2 (Dense)              (None, 128)               65664     \n",
            "_________________________________________________________________\n",
            "batch_normalization_2 (Batch (None, 128)               512       \n",
            "_________________________________________________________________\n",
            "dropout_2 (Dropout)          (None, 128)               0         \n",
            "_________________________________________________________________\n",
            "dense_3 (Dense)              (None, 64)                8256      \n",
            "_________________________________________________________________\n",
            "batch_normalization_3 (Batch (None, 64)                256       \n",
            "_________________________________________________________________\n",
            "dense_4 (Dense)              (None, 10)                650       \n",
            "=================================================================\n",
            "Total params: 479,306\n",
            "Trainable params: 477,898\n",
            "Non-trainable params: 1,408\n",
            "_________________________________________________________________\n"
          ],
          "name": "stdout"
        }
      ]
    },
    {
      "cell_type": "code",
      "metadata": {
        "id": "yUbLveJeOqmV",
        "colab_type": "code",
        "outputId": "57e8a333-3af8-4e22-a838-5cfc1f318391",
        "colab": {
          "base_uri": "https://localhost:8080/",
          "height": 800
        }
      },
      "source": [
        "model_first.compile(optimizer='sgd', loss='categorical_crossentropy', metrics=['accuracy'])\n",
        "\n",
        "history = model_first.fit(X_train, Y_train, batch_size=batch_size, epochs=nb_epoch, verbose=1, validation_data=(X_test, Y_test))"
      ],
      "execution_count": 0,
      "outputs": [
        {
          "output_type": "stream",
          "text": [
            "WARNING:tensorflow:From /usr/local/lib/python3.6/dist-packages/tensorflow/python/ops/math_ops.py:3066: to_int32 (from tensorflow.python.ops.math_ops) is deprecated and will be removed in a future version.\n",
            "Instructions for updating:\n",
            "Use tf.cast instead.\n",
            "Train on 60000 samples, validate on 10000 samples\n",
            "Epoch 1/20\n",
            "60000/60000 [==============================] - 8s 128us/step - loss: 1.0554 - acc: 0.6661 - val_loss: 0.3752 - val_acc: 0.9008\n",
            "Epoch 2/20\n",
            "60000/60000 [==============================] - 5s 80us/step - loss: 0.5414 - acc: 0.8390 - val_loss: 0.2736 - val_acc: 0.9233\n",
            "Epoch 3/20\n",
            "60000/60000 [==============================] - 5s 81us/step - loss: 0.4331 - acc: 0.8725 - val_loss: 0.2287 - val_acc: 0.9328\n",
            "Epoch 4/20\n",
            "60000/60000 [==============================] - 5s 79us/step - loss: 0.3742 - acc: 0.8893 - val_loss: 0.2023 - val_acc: 0.9403\n",
            "Epoch 5/20\n",
            "60000/60000 [==============================] - 5s 79us/step - loss: 0.3373 - acc: 0.9004 - val_loss: 0.1840 - val_acc: 0.9443\n",
            "Epoch 6/20\n",
            "60000/60000 [==============================] - 5s 79us/step - loss: 0.3082 - acc: 0.9078 - val_loss: 0.1719 - val_acc: 0.9482\n",
            "Epoch 7/20\n",
            "60000/60000 [==============================] - 5s 79us/step - loss: 0.2895 - acc: 0.9151 - val_loss: 0.1606 - val_acc: 0.9517\n",
            "Epoch 8/20\n",
            "60000/60000 [==============================] - 5s 80us/step - loss: 0.2684 - acc: 0.9210 - val_loss: 0.1531 - val_acc: 0.9527\n",
            "Epoch 9/20\n",
            "60000/60000 [==============================] - 5s 79us/step - loss: 0.2553 - acc: 0.9245 - val_loss: 0.1451 - val_acc: 0.9556\n",
            "Epoch 10/20\n",
            "60000/60000 [==============================] - 5s 79us/step - loss: 0.2427 - acc: 0.9277 - val_loss: 0.1395 - val_acc: 0.9566\n",
            "Epoch 11/20\n",
            "60000/60000 [==============================] - 5s 80us/step - loss: 0.2291 - acc: 0.9310 - val_loss: 0.1336 - val_acc: 0.9585\n",
            "Epoch 12/20\n",
            "60000/60000 [==============================] - 5s 80us/step - loss: 0.2232 - acc: 0.9326 - val_loss: 0.1274 - val_acc: 0.9604\n",
            "Epoch 13/20\n",
            "60000/60000 [==============================] - 5s 81us/step - loss: 0.2093 - acc: 0.9373 - val_loss: 0.1242 - val_acc: 0.9609\n",
            "Epoch 14/20\n",
            "60000/60000 [==============================] - 5s 79us/step - loss: 0.2075 - acc: 0.9381 - val_loss: 0.1209 - val_acc: 0.9622\n",
            "Epoch 15/20\n",
            "60000/60000 [==============================] - 5s 79us/step - loss: 0.1976 - acc: 0.9405 - val_loss: 0.1160 - val_acc: 0.9650\n",
            "Epoch 16/20\n",
            "60000/60000 [==============================] - 5s 79us/step - loss: 0.1927 - acc: 0.9415 - val_loss: 0.1127 - val_acc: 0.9660\n",
            "Epoch 17/20\n",
            "60000/60000 [==============================] - 5s 79us/step - loss: 0.1876 - acc: 0.9435 - val_loss: 0.1096 - val_acc: 0.9672\n",
            "Epoch 18/20\n",
            "60000/60000 [==============================] - 5s 79us/step - loss: 0.1771 - acc: 0.9476 - val_loss: 0.1080 - val_acc: 0.9673\n",
            "Epoch 19/20\n",
            "60000/60000 [==============================] - 5s 78us/step - loss: 0.1751 - acc: 0.9477 - val_loss: 0.1036 - val_acc: 0.9688\n",
            "Epoch 20/20\n",
            "60000/60000 [==============================] - 5s 79us/step - loss: 0.1718 - acc: 0.9479 - val_loss: 0.1025 - val_acc: 0.9694\n"
          ],
          "name": "stdout"
        }
      ]
    },
    {
      "cell_type": "code",
      "metadata": {
        "id": "FS20jOgiOqpY",
        "colab_type": "code",
        "outputId": "65920356-b2c2-4bc2-e0c2-0f1da908c96b",
        "colab": {
          "base_uri": "https://localhost:8080/",
          "height": 314
        }
      },
      "source": [
        "score = model_first.evaluate(X_test, Y_test, verbose=0) \n",
        "print('Test score:', score[0]) \n",
        "print('Test accuracy:', score[1])\n",
        "\n",
        "fig,ax = plt.subplots(1,1)\n",
        "ax.set_xlabel('epoch') ; ax.set_ylabel('Categorical Crossentropy Loss')\n",
        "# list of epoch numbers\n",
        "x = list(range(1,nb_epoch+1))\n",
        "\n",
        "vy = history.history['val_loss']\n",
        "ty = history.history['loss']\n",
        "plt_dynamic(x, vy, ty, ax)"
      ],
      "execution_count": 0,
      "outputs": [
        {
          "output_type": "stream",
          "text": [
            "Test score: 0.10245912347100675\n",
            "Test accuracy: 0.9694\n"
          ],
          "name": "stdout"
        },
        {
          "output_type": "display_data",
          "data": {
            "image/png": "[encoded data removed]",
            "text/plain": [
              "<Figure size 432x288 with 1 Axes>"
            ]
          },
          "metadata": {
            "tags": []
          }
        }
      ]
    },
    {
      "cell_type": "code",
      "metadata": {
        "id": "2G6YlGW7Oqu9",
        "colab_type": "code",
        "outputId": "7edb17d7-98aa-4025-96c4-cfd6da9a486f",
        "colab": {
          "base_uri": "https://localhost:8080/",
          "height": 589
        }
      },
      "source": [
        "# Multilayer perceptron second type\n",
        "\n",
        "model_second = Sequential()\n",
        "model_second.add(Dense(512, activation='relu', input_shape=(input_dim,)))\n",
        "model_second.add(BatchNormalization())\n",
        "model_second.add(Dropout(0.5))\n",
        "\n",
        "model_second.add(Dense(128, activation='relu'))\n",
        "model_second.add(BatchNormalization())\n",
        "model_second.add(Dropout(0.5))\n",
        "\n",
        "model_second.add(Dense(128, activation='relu'))\n",
        "model_second.add(BatchNormalization())\n",
        "model_second.add(Dropout(0.5))\n",
        "\n",
        "model_second.add(Dense(64, activation='relu'))\n",
        "model_second.add(BatchNormalization())\n",
        "model_second.add(Dropout(0.5))\n",
        "\n",
        "model_second.add(Dense(output_dim, activation='softmax'))\n",
        "\n",
        "model_second.summary()"
      ],
      "execution_count": 0,
      "outputs": [
        {
          "output_type": "stream",
          "text": [
            "_________________________________________________________________\n",
            "Layer (type)                 Output Shape              Param #   \n",
            "=================================================================\n",
            "dense_5 (Dense)              (None, 512)               401920    \n",
            "_________________________________________________________________\n",
            "batch_normalization_4 (Batch (None, 512)               2048      \n",
            "_________________________________________________________________\n",
            "dropout_3 (Dropout)          (None, 512)               0         \n",
            "_________________________________________________________________\n",
            "dense_6 (Dense)              (None, 128)               65664     \n",
            "_________________________________________________________________\n",
            "batch_normalization_5 (Batch (None, 128)               512       \n",
            "_________________________________________________________________\n",
            "dropout_4 (Dropout)          (None, 128)               0         \n",
            "_________________________________________________________________\n",
            "dense_7 (Dense)              (None, 128)               16512     \n",
            "_________________________________________________________________\n",
            "batch_normalization_6 (Batch (None, 128)               512       \n",
            "_________________________________________________________________\n",
            "dropout_5 (Dropout)          (None, 128)               0         \n",
            "_________________________________________________________________\n",
            "dense_8 (Dense)              (None, 64)                8256      \n",
            "_________________________________________________________________\n",
            "batch_normalization_7 (Batch (None, 64)                256       \n",
            "_________________________________________________________________\n",
            "dropout_6 (Dropout)          (None, 64)                0         \n",
            "_________________________________________________________________\n",
            "dense_9 (Dense)              (None, 10)                650       \n",
            "=================================================================\n",
            "Total params: 496,330\n",
            "Trainable params: 494,666\n",
            "Non-trainable params: 1,664\n",
            "_________________________________________________________________\n"
          ],
          "name": "stdout"
        }
      ]
    },
    {
      "cell_type": "code",
      "metadata": {
        "id": "w5rd2w4DOqxi",
        "colab_type": "code",
        "outputId": "e8563057-425a-4599-8965-f385fab427c7",
        "colab": {
          "base_uri": "https://localhost:8080/",
          "height": 728
        }
      },
      "source": [
        "model_second.compile(optimizer='sgd', loss='categorical_crossentropy', metrics=['accuracy'])\n",
        "\n",
        "history = model_second.fit(X_train, Y_train, batch_size=batch_size, epochs=nb_epoch, verbose=1, validation_data=(X_test, Y_test))"
      ],
      "execution_count": 0,
      "outputs": [
        {
          "output_type": "stream",
          "text": [
            "Train on 60000 samples, validate on 10000 samples\n",
            "Epoch 1/20\n",
            "60000/60000 [==============================] - 7s 111us/step - loss: 1.7582 - acc: 0.4346 - val_loss: 0.5568 - val_acc: 0.8405\n",
            "Epoch 2/20\n",
            "60000/60000 [==============================] - 6s 96us/step - loss: 0.9278 - acc: 0.6945 - val_loss: 0.3803 - val_acc: 0.8963\n",
            "Epoch 3/20\n",
            "60000/60000 [==============================] - 6s 95us/step - loss: 0.7127 - acc: 0.7770 - val_loss: 0.2958 - val_acc: 0.9177\n",
            "Epoch 4/20\n",
            "60000/60000 [==============================] - 6s 95us/step - loss: 0.5946 - acc: 0.8220 - val_loss: 0.2517 - val_acc: 0.9260\n",
            "Epoch 5/20\n",
            "60000/60000 [==============================] - 6s 95us/step - loss: 0.5273 - acc: 0.8450 - val_loss: 0.2280 - val_acc: 0.9306\n",
            "Epoch 6/20\n",
            "60000/60000 [==============================] - 6s 95us/step - loss: 0.4822 - acc: 0.8610 - val_loss: 0.2084 - val_acc: 0.9379\n",
            "Epoch 7/20\n",
            "60000/60000 [==============================] - 6s 94us/step - loss: 0.4335 - acc: 0.8741 - val_loss: 0.1943 - val_acc: 0.9414\n",
            "Epoch 8/20\n",
            "60000/60000 [==============================] - 6s 98us/step - loss: 0.4105 - acc: 0.8828 - val_loss: 0.1841 - val_acc: 0.9438\n",
            "Epoch 9/20\n",
            "60000/60000 [==============================] - 6s 96us/step - loss: 0.3774 - acc: 0.8948 - val_loss: 0.1742 - val_acc: 0.9474\n",
            "Epoch 10/20\n",
            "60000/60000 [==============================] - 6s 100us/step - loss: 0.3595 - acc: 0.8996 - val_loss: 0.1646 - val_acc: 0.9507\n",
            "Epoch 11/20\n",
            "60000/60000 [==============================] - 6s 102us/step - loss: 0.3407 - acc: 0.9047 - val_loss: 0.1559 - val_acc: 0.9528\n",
            "Epoch 12/20\n",
            "60000/60000 [==============================] - 6s 104us/step - loss: 0.3247 - acc: 0.9098 - val_loss: 0.1509 - val_acc: 0.9543\n",
            "Epoch 13/20\n",
            "60000/60000 [==============================] - 6s 105us/step - loss: 0.3144 - acc: 0.9137 - val_loss: 0.1432 - val_acc: 0.9565\n",
            "Epoch 14/20\n",
            "60000/60000 [==============================] - 6s 105us/step - loss: 0.3008 - acc: 0.9174 - val_loss: 0.1384 - val_acc: 0.9575\n",
            "Epoch 15/20\n",
            "60000/60000 [==============================] - 6s 105us/step - loss: 0.2855 - acc: 0.9217 - val_loss: 0.1349 - val_acc: 0.9589\n",
            "Epoch 16/20\n",
            "60000/60000 [==============================] - 6s 104us/step - loss: 0.2755 - acc: 0.9249 - val_loss: 0.1300 - val_acc: 0.9619\n",
            "Epoch 17/20\n",
            "60000/60000 [==============================] - 6s 104us/step - loss: 0.2719 - acc: 0.9260 - val_loss: 0.1265 - val_acc: 0.9628\n",
            "Epoch 18/20\n",
            "60000/60000 [==============================] - 6s 105us/step - loss: 0.2566 - acc: 0.9296 - val_loss: 0.1241 - val_acc: 0.9645\n",
            "Epoch 19/20\n",
            "60000/60000 [==============================] - 6s 104us/step - loss: 0.2492 - acc: 0.9334 - val_loss: 0.1206 - val_acc: 0.9656\n",
            "Epoch 20/20\n",
            "60000/60000 [==============================] - 6s 105us/step - loss: 0.2479 - acc: 0.9321 - val_loss: 0.1186 - val_acc: 0.9665\n"
          ],
          "name": "stdout"
        }
      ]
    },
    {
      "cell_type": "code",
      "metadata": {
        "id": "fL_j5iopOqz6",
        "colab_type": "code",
        "outputId": "11d07130-4466-4e0a-e8f8-c5c22acf69cc",
        "colab": {
          "base_uri": "https://localhost:8080/",
          "height": 314
        }
      },
      "source": [
        "score = model_second.evaluate(X_test, Y_test, verbose=0) \n",
        "print('Test score:', score[0]) \n",
        "print('Test accuracy:', score[1])\n",
        "\n",
        "fig,ax = plt.subplots(1,1)\n",
        "ax.set_xlabel('epoch') ; ax.set_ylabel('Categorical Crossentropy Loss')\n",
        "# list of epoch numbers\n",
        "x = list(range(1,nb_epoch+1))\n",
        "\n",
        "vy = history.history['val_loss']\n",
        "ty = history.history['loss']\n",
        "plt_dynamic(x, vy, ty, ax)"
      ],
      "execution_count": 0,
      "outputs": [
        {
          "output_type": "stream",
          "text": [
            "Test score: 0.08783440432427451\n",
            "Test accuracy: 0.9773\n"
          ],
          "name": "stdout"
        },
        {
          "output_type": "display_data",
          "data": {
            "image/png": "[encoded data removed]",
            "text/plain": [
              "<Figure size 432x288 with 1 Axes>"
            ]
          },
          "metadata": {
            "tags": []
          }
        }
      ]
    },
    {
      "cell_type": "code",
      "metadata": {
        "id": "2EsP47ysSNgI",
        "colab_type": "code",
        "outputId": "fec14dc3-214c-458a-9e06-62a1cd17b945",
        "colab": {
          "base_uri": "https://localhost:8080/",
          "height": 659
        }
      },
      "source": [
        "# Multilayer perceptron third type\n",
        "\n",
        "model_third = Sequential()\n",
        "model_third.add(Dense(512, activation='relu', input_shape=(input_dim,)))\n",
        "model_third.add(BatchNormalization())\n",
        "\n",
        "\n",
        "model_third.add(Dense(128, activation='relu'))\n",
        "model_third.add(BatchNormalization())\n",
        "\n",
        "\n",
        "model_third.add(Dense(128, activation='relu'))\n",
        "model_third.add(BatchNormalization())\n",
        "\n",
        "\n",
        "model_third.add(Dense(64, activation='relu'))\n",
        "model_third.add(BatchNormalization())\n",
        "\n",
        "\n",
        "model_third.add(Dense(64, activation='relu'))\n",
        "model_third.add(BatchNormalization())\n",
        "model_third.add(Dropout(0.5))\n",
        "\n",
        "model_third.add(Dense(64, activation='relu'))\n",
        "model_third.add(BatchNormalization())\n",
        "model_third.add(Dropout(0.5))\n",
        "\n",
        "model_third.add(Dense(output_dim, activation='softmax'))\n",
        "\n",
        "model_third.summary()"
      ],
      "execution_count": 0,
      "outputs": [
        {
          "output_type": "stream",
          "text": [
            "_________________________________________________________________\n",
            "Layer (type)                 Output Shape              Param #   \n",
            "=================================================================\n",
            "dense_17 (Dense)             (None, 512)               401920    \n",
            "_________________________________________________________________\n",
            "batch_normalization_14 (Batc (None, 512)               2048      \n",
            "_________________________________________________________________\n",
            "dense_18 (Dense)             (None, 128)               65664     \n",
            "_________________________________________________________________\n",
            "batch_normalization_15 (Batc (None, 128)               512       \n",
            "_________________________________________________________________\n",
            "dense_19 (Dense)             (None, 128)               16512     \n",
            "_________________________________________________________________\n",
            "batch_normalization_16 (Batc (None, 128)               512       \n",
            "_________________________________________________________________\n",
            "dense_20 (Dense)             (None, 64)                8256      \n",
            "_________________________________________________________________\n",
            "batch_normalization_17 (Batc (None, 64)                256       \n",
            "_________________________________________________________________\n",
            "dense_21 (Dense)             (None, 64)                4160      \n",
            "_________________________________________________________________\n",
            "batch_normalization_18 (Batc (None, 64)                256       \n",
            "_________________________________________________________________\n",
            "dropout_9 (Dropout)          (None, 64)                0         \n",
            "_________________________________________________________________\n",
            "dense_22 (Dense)             (None, 64)                4160      \n",
            "_________________________________________________________________\n",
            "batch_normalization_19 (Batc (None, 64)                256       \n",
            "_________________________________________________________________\n",
            "dropout_10 (Dropout)         (None, 64)                0         \n",
            "_________________________________________________________________\n",
            "dense_23 (Dense)             (None, 10)                650       \n",
            "=================================================================\n",
            "Total params: 505,162\n",
            "Trainable params: 503,242\n",
            "Non-trainable params: 1,920\n",
            "_________________________________________________________________\n"
          ],
          "name": "stdout"
        }
      ]
    },
    {
      "cell_type": "code",
      "metadata": {
        "id": "i_gfqDknSM03",
        "colab_type": "code",
        "outputId": "9704f82f-a9ef-4a6f-c169-e527dc1a28ef",
        "colab": {
          "base_uri": "https://localhost:8080/",
          "height": 728
        }
      },
      "source": [
        "model_third.compile(optimizer='sgd', loss='categorical_crossentropy', metrics=['accuracy'])\n",
        "\n",
        "history = model_third.fit(X_train, Y_train, batch_size=batch_size, epochs=nb_epoch, verbose=1, validation_data=(X_test, Y_test))"
      ],
      "execution_count": 0,
      "outputs": [
        {
          "output_type": "stream",
          "text": [
            "Train on 60000 samples, validate on 10000 samples\n",
            "Epoch 1/20\n",
            "60000/60000 [==============================] - 10s 174us/step - loss: 1.1540 - acc: 0.6449 - val_loss: 0.2983 - val_acc: 0.9190\n",
            "Epoch 2/20\n",
            "60000/60000 [==============================] - 8s 136us/step - loss: 0.4626 - acc: 0.8748 - val_loss: 0.1950 - val_acc: 0.9462\n",
            "Epoch 3/20\n",
            "60000/60000 [==============================] - 8s 138us/step - loss: 0.3310 - acc: 0.9157 - val_loss: 0.1591 - val_acc: 0.9545\n",
            "Epoch 4/20\n",
            "60000/60000 [==============================] - 8s 138us/step - loss: 0.2644 - acc: 0.9340 - val_loss: 0.1440 - val_acc: 0.9578\n",
            "Epoch 5/20\n",
            "60000/60000 [==============================] - 8s 136us/step - loss: 0.2221 - acc: 0.9462 - val_loss: 0.1265 - val_acc: 0.9631\n",
            "Epoch 6/20\n",
            "60000/60000 [==============================] - 8s 138us/step - loss: 0.1905 - acc: 0.9527 - val_loss: 0.1195 - val_acc: 0.9662\n",
            "Epoch 7/20\n",
            "60000/60000 [==============================] - 8s 136us/step - loss: 0.1641 - acc: 0.9594 - val_loss: 0.1131 - val_acc: 0.9677\n",
            "Epoch 8/20\n",
            "60000/60000 [==============================] - 8s 135us/step - loss: 0.1442 - acc: 0.9661 - val_loss: 0.1074 - val_acc: 0.9691\n",
            "Epoch 9/20\n",
            "60000/60000 [==============================] - 8s 136us/step - loss: 0.1277 - acc: 0.9698 - val_loss: 0.1038 - val_acc: 0.9714\n",
            "Epoch 10/20\n",
            "60000/60000 [==============================] - 8s 137us/step - loss: 0.1162 - acc: 0.9721 - val_loss: 0.1027 - val_acc: 0.9722\n",
            "Epoch 11/20\n",
            "60000/60000 [==============================] - 8s 135us/step - loss: 0.1041 - acc: 0.9754 - val_loss: 0.1012 - val_acc: 0.9730\n",
            "Epoch 12/20\n",
            "60000/60000 [==============================] - 8s 136us/step - loss: 0.0965 - acc: 0.9765 - val_loss: 0.0975 - val_acc: 0.9726\n",
            "Epoch 13/20\n",
            "60000/60000 [==============================] - 8s 137us/step - loss: 0.0853 - acc: 0.9789 - val_loss: 0.0965 - val_acc: 0.9732\n",
            "Epoch 14/20\n",
            "60000/60000 [==============================] - 8s 135us/step - loss: 0.0787 - acc: 0.9807 - val_loss: 0.0965 - val_acc: 0.9741\n",
            "Epoch 15/20\n",
            "60000/60000 [==============================] - 8s 136us/step - loss: 0.0709 - acc: 0.9832 - val_loss: 0.0991 - val_acc: 0.9746\n",
            "Epoch 16/20\n",
            "60000/60000 [==============================] - 8s 136us/step - loss: 0.0672 - acc: 0.9835 - val_loss: 0.0945 - val_acc: 0.9757\n",
            "Epoch 17/20\n",
            "60000/60000 [==============================] - 8s 137us/step - loss: 0.0608 - acc: 0.9856 - val_loss: 0.0982 - val_acc: 0.9749\n",
            "Epoch 18/20\n",
            "60000/60000 [==============================] - 8s 135us/step - loss: 0.0549 - acc: 0.9868 - val_loss: 0.0964 - val_acc: 0.9764\n",
            "Epoch 19/20\n",
            "60000/60000 [==============================] - 8s 137us/step - loss: 0.0505 - acc: 0.9879 - val_loss: 0.0975 - val_acc: 0.9762\n",
            "Epoch 20/20\n",
            "60000/60000 [==============================] - 8s 137us/step - loss: 0.0526 - acc: 0.9876 - val_loss: 0.0973 - val_acc: 0.9768\n"
          ],
          "name": "stdout"
        }
      ]
    },
    {
      "cell_type": "code",
      "metadata": {
        "id": "qToY74HMA5ri",
        "colab_type": "code",
        "outputId": "752fa203-d4b7-4152-c930-2d19bf9b5da8",
        "colab": {
          "base_uri": "https://localhost:8080/",
          "height": 317
        }
      },
      "source": [
        "score = model_third.evaluate(X_test, Y_test, verbose=0) \n",
        "print('Test score:', score[0]) \n",
        "print('Test accuracy:', score[1])\n",
        "\n",
        "fig,ax = plt.subplots(1,1)\n",
        "ax.set_xlabel('epoch') ; ax.set_ylabel('Categorical Crossentropy Loss')\n",
        "# list of epoch numbers\n",
        "x = list(range(1,nb_epoch+1))\n",
        "\n",
        "vy = history.history['val_loss']\n",
        "ty = history.history['loss']\n",
        "plt_dynamic(x, vy, ty, ax)"
      ],
      "execution_count": 0,
      "outputs": [
        {
          "output_type": "stream",
          "text": [
            "Test score: 0.09726882541918894\n",
            "Test accuracy: 0.9768\n"
          ],
          "name": "stdout"
        },
        {
          "output_type": "display_data",
          "data": {
            "image/png": "[encoded data removed]",
            "text/plain": [
              "<Figure size 432x288 with 1 Axes>"
            ]
          },
          "metadata": {
            "tags": []
          }
        }
      ]
    },
    {
      "cell_type": "markdown",
      "metadata": {
        "id": "l9SvrlT9Rx70",
        "colab_type": "text"
      },
      "source": [
        "**Thank you**"
      ]
    }
  ]
}
