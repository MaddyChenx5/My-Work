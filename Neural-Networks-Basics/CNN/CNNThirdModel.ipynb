{
  "nbformat": 4,
  "nbformat_minor": 0,
  "metadata": {
    "colab": {
      "name": "CNNThird.ipynb",
      "version": "0.3.2",
      "provenance": [],
      "collapsed_sections": []
    },
    "kernelspec": {
      "name": "python3",
      "display_name": "Python 3"
    },
    "accelerator": "GPU"
  },
  "cells": [
    {
      "cell_type": "markdown",
      "metadata": {
        "id": "cqAvh-2qugr3",
        "colab_type": "text"
      },
      "source": [
        "##**CNN Network 3**\n",
        "###**By : Maddy**\n"
      ]
    },
    {
      "cell_type": "markdown",
      "metadata": {
        "id": "OGNpTqxzuy7Y",
        "colab_type": "text"
      },
      "source": [
        "\n"
      ]
    },
    {
      "cell_type": "markdown",
      "metadata": {
        "id": "sKFclgjdpfst",
        "colab_type": "text"
      },
      "source": [
        "**Below are my learning/understanding for Convolution Neural Networks and the components which I have used in CNN notebook**\n",
        "\n",
        ""
      ]
    },
    {
      "cell_type": "markdown",
      "metadata": {
        "id": "49rSDcUmpf5D",
        "colab_type": "text"
      },
      "source": [
        "**Convolution**: Convolution refers to application of filters on input images to extract useful features from them like different edges, depth etc. It is motivated from human visula cortex system. Each convolution helps to detect different features from the image.\n",
        "\n",
        "\n"
      ]
    },
    {
      "cell_type": "markdown",
      "metadata": {
        "id": "2-Yz9sqrpf8K",
        "colab_type": "text"
      },
      "source": [
        "**Filter**: It is matrix with a data pattern to detect different features from input image. It is traveresed through all the pixels of input image(matrix) and a element wise dot product is taken."
      ]
    },
    {
      "cell_type": "markdown",
      "metadata": {
        "id": "2zw3D13dpf_R",
        "colab_type": "text"
      },
      "source": [
        "**Padding**: Whenever a filter is applied on input image the output shrinks and to keep the matrix size constant padding is used."
      ]
    },
    {
      "cell_type": "markdown",
      "metadata": {
        "id": "IAFMUZPMpgFY",
        "colab_type": "text"
      },
      "source": [
        "**Strides**: Stride determines the jump from one dot product to another. And it also helps to control overlap between dot products.\n"
      ]
    },
    {
      "cell_type": "markdown",
      "metadata": {
        "id": "KEYQsIaMpgKn",
        "colab_type": "text"
      },
      "source": [
        "**Pooling**: It is kind of a technique used for downsampling. It helps in reduction of number of weights. It helps in avoiding overfitting. It also reduced spatial dimensions. There are different types of pooling like average pooling , max pooling etc.\n",
        "Max pooling takes of filter of size X and stride of same size and takes olny the max element from that spatial dimension.\n"
      ]
    },
    {
      "cell_type": "markdown",
      "metadata": {
        "id": "sur7idrvpgDu",
        "colab_type": "text"
      },
      "source": [
        "**Activation**: Activation functions are mainly used to get non linearity into the picture. After each convolution layer we use a activation function to make the network non linear. Earlier activation functions like Tan H or Sigmoid were used but these days Relu is more common with CNNs as it trains faster and helps avoid problem of vanishing gradient. We add non linearity to make the model to adapt generalization.\n",
        "\n",
        "**RELU ( Rectified Linear Units):**  Its function and derivite both are monotonic. It partially rectifies the input. It make all negative inputs to zero so it may not be able to map negative values properly.\n",
        "\n",
        "***Function Relu =  max(0,x)***\n",
        "\n",
        "It is used in almost most of the Convolutional Neural Networks"
      ]
    },
    {
      "cell_type": "markdown",
      "metadata": {
        "id": "VO7kETqPp7gG",
        "colab_type": "text"
      },
      "source": [
        "**DroupOut**: Droupout technique is used as a regularization in deep neural networks so as to reduce overfitting. In this technique some of the neurons get shut down and they are not a part of any fordward or backward pass."
      ]
    },
    {
      "cell_type": "markdown",
      "metadata": {
        "id": "D6aD-ERRp7l3",
        "colab_type": "text"
      },
      "source": [
        "**Dense Layer / Fully Connected Layer: ** It is a linear operation where all the outputs of Convolution layer are fully connected to dense layer. And after that a non linear activation function is used. As the convolution layer has extracted all the features the dense layer is used as a scalar classification layer."
      ]
    },
    {
      "cell_type": "markdown",
      "metadata": {
        "id": "7GaI_AZxp7kH",
        "colab_type": "text"
      },
      "source": [
        "**Flatten** : It is used to make a (mXn) matrix input into 1D vector so that we can get scalar classified output."
      ]
    },
    {
      "cell_type": "markdown",
      "metadata": {
        "id": "-CWCGUMBOHuL",
        "colab_type": "text"
      },
      "source": [
        "**Batch Normalization**:  It refers to implementation of normalisation in deep layers of neural networks. As the networks gets complex the inputs of subsequent layers starts to get shift from the original scale so by normalising the inputs of some layers this can be avoided. This shifting is known as internal covariate shift. Batch Normalization helps in training the model faster as larger learning rate can be used and it also acts as weak regularizer. It performs shifting and scaling using alpha and beta parameters while are to be learned while training. \n",
        "BN : alpha*xi' + beta.\n"
      ]
    },
    {
      "cell_type": "markdown",
      "metadata": {
        "id": "mm3xhZFEslIg",
        "colab_type": "text"
      },
      "source": [
        "**Transfer Learning:**  Its not possible for all to have humongous amount of data and as we know that deep learning is fruitful with large data only. But in that case we can use pretrained model on our smaller dataset. The convolution layers can be used as a feature extracter for our model and the last few classification layer can be fine tuned or some high level CNN layers. \n",
        "\n",
        "If the data set is completely different and enough then we can go for training the CNN from scratch."
      ]
    },
    {
      "cell_type": "markdown",
      "metadata": {
        "id": "juHnzj5ytICr",
        "colab_type": "text"
      },
      "source": [
        "**Data Augmentation**: As in CNN we are dealing with image data and we don't want our model to be restricted to spatial dimension so we kind of manipulate the input data to be trained for different spatial scenarios like flipping , zooming , blurring etc."
      ]
    },
    {
      "cell_type": "code",
      "metadata": {
        "id": "99co-8Np6q6J",
        "colab_type": "code",
        "colab": {}
      },
      "source": [
        "from IPython.display import Image , display"
      ],
      "execution_count": 0,
      "outputs": []
    },
    {
      "cell_type": "code",
      "metadata": {
        "id": "FecQ3qcyK-nM",
        "colab_type": "code",
        "outputId": "cb2ebf05-fa20-4ec5-f2af-6fc1effbb9bf",
        "colab": {
          "resources": {
            "http://localhost:8080/nbextensions/google.colab/files.js": {
              "data": "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",
              "ok": true,
              "headers": [
                [
                  "content-type",
                  "application/javascript"
                ]
              ],
              "status": 200,
              "status_text": "OK"
            }
          },
          "base_uri": "https://localhost:8080/",
          "height": 75
        }
      },
      "source": [
        "from google.colab import files\n",
        "uploaded = files.upload()"
      ],
      "execution_count": 0,
      "outputs": [
        {
          "output_type": "display_data",
          "data": {
            "text/html": [
              "\n",
              "     <input type=\"file\" id=\"files-8b22dab9-b055-46da-85aa-37aaef64293e\" name=\"files[]\" multiple disabled />\n",
              "     <output id=\"result-8b22dab9-b055-46da-85aa-37aaef64293e\">\n",
              "      Upload widget is only available when the cell has been executed in the\n",
              "      current browser session. Please rerun this cell to enable.\n",
              "      </output>\n",
              "      <script src=\"/nbextensions/google.colab/files.js\"></script> "
            ],
            "text/plain": [
              "<IPython.core.display.HTML object>"
            ]
          },
          "metadata": {
            "tags": []
          }
        },
        {
          "output_type": "stream",
          "text": [
            "Saving Three.png to Three.png\n"
          ],
          "name": "stdout"
        }
      ]
    },
    {
      "cell_type": "markdown",
      "metadata": {
        "id": "6dUBLIVDBs2z",
        "colab_type": "text"
      },
      "source": [
        "## CNN Architecture"
      ]
    },
    {
      "cell_type": "code",
      "metadata": {
        "id": "TY-qpIueLFDW",
        "colab_type": "code",
        "outputId": "c66ba630-8066-4ebd-fd8e-c0701ad36bcc",
        "colab": {
          "base_uri": "https://localhost:8080/",
          "height": 417
        }
      },
      "source": [
        "\n",
        "display(Image(\"Three.png\",width=700, height=400))"
      ],
      "execution_count": 0,
      "outputs": [
        {
          "output_type": "display_data",
          "data": {
            "image/png": "[encoded data removed]",
            "text/plain": [
              "<IPython.core.display.Image object>"
            ]
          },
          "metadata": {
            "tags": [],
            "image/png": {
              "width": 700,
              "height": 400
            }
          }
        }
      ]
    },
    {
      "cell_type": "markdown",
      "metadata": {
        "id": "pLTPHRFewE6N",
        "colab_type": "text"
      },
      "source": [
        "**Filter = 7*7 **\n",
        "\n",
        "**Padding = same**\n",
        "\n",
        "**MaxPool Pool Size = 3*3**\n",
        "\n",
        "**Optimizer = RMSprop **\n",
        "\n",
        "**Epochs = 25 **\n",
        "\n",
        "** Adding Batch Normalization between convolution layer and fully connected layer **"
      ]
    },
    {
      "cell_type": "code",
      "metadata": {
        "id": "AeujD4Hevve8",
        "colab_type": "code",
        "outputId": "c58daaca-3bf8-4009-98c1-c31d797bc43e",
        "colab": {
          "base_uri": "https://localhost:8080/",
          "height": 1216
        }
      },
      "source": [
        "\n",
        "from __future__ import print_function\n",
        "import keras\n",
        "from keras.datasets import mnist\n",
        "from keras.models import Sequential\n",
        "from keras.layers import Dense, Dropout, Flatten ,BatchNormalization\n",
        "from keras.layers import Conv2D, MaxPooling2D\n",
        "from keras import backend as K\n",
        "\n",
        "batch_size = 128\n",
        "num_classes = 10\n",
        "epochs = 25\n",
        "\n",
        "# input image dimensions\n",
        "img_rows, img_cols = 28, 28\n",
        "\n",
        "# the data, split between train and test sets\n",
        "(x_train, y_train), (x_test, y_test) = mnist.load_data()\n",
        "\n",
        "if K.image_data_format() == 'channels_first':\n",
        "    x_train = x_train.reshape(x_train.shape[0], 1, img_rows, img_cols)\n",
        "    x_test = x_test.reshape(x_test.shape[0], 1, img_rows, img_cols)\n",
        "    input_shape = (1, img_rows, img_cols)\n",
        "else:\n",
        "    x_train = x_train.reshape(x_train.shape[0], img_rows, img_cols, 1)\n",
        "    x_test = x_test.reshape(x_test.shape[0], img_rows, img_cols, 1)\n",
        "    input_shape = (img_rows, img_cols, 1)\n",
        "\n",
        "x_train = x_train.astype('float32')\n",
        "x_test = x_test.astype('float32')\n",
        "x_train /= 255\n",
        "x_test /= 255\n",
        "print('x_train shape:', x_train.shape)\n",
        "print(x_train.shape[0], 'train samples')\n",
        "print(x_test.shape[0], 'test samples')\n",
        "\n",
        "# convert class vectors to binary class matrices\n",
        "y_train = keras.utils.to_categorical(y_train, num_classes)\n",
        "y_test = keras.utils.to_categorical(y_test, num_classes)\n",
        "\n",
        "model = Sequential()\n",
        "model.add(Conv2D(64, kernel_size=(7, 7),\n",
        "                 activation='relu',padding='same',\n",
        "                 input_shape=input_shape))\n",
        "model.add(Conv2D(64, (7, 7),padding='same', activation='relu'))\n",
        "model.add(MaxPooling2D(pool_size=(2, 2),padding='same'))\n",
        "\n",
        "model.add(Conv2D(128, (7, 7),padding='same', activation='relu'))\n",
        "model.add(Conv2D(128, (7, 7),padding='same', activation='relu'))\n",
        "model.add(Conv2D(128, (7, 7),padding='same', activation='relu'))\n",
        "model.add(MaxPooling2D(pool_size=(2, 2),padding='same'))\n",
        "\n",
        "model.add(Conv2D(256, (7, 7),padding='same', activation='relu'))\n",
        "model.add(Conv2D(256, (7, 7),padding='same', activation='relu'))\n",
        "model.add(MaxPooling2D(pool_size=(2, 2),padding='same'))\n",
        "\n",
        "model.add(Conv2D(512, (7, 7),padding='same', activation='relu'))\n",
        "model.add(Conv2D(512, (7, 7),padding='same', activation='relu'))\n",
        "model.add(Conv2D(512, (7, 7),padding='same', activation='relu'))\n",
        "model.add(BatchNormalization())\n",
        "model.add(MaxPooling2D(pool_size=(2, 2),padding='same'))\n",
        "\n",
        "model.add(Dropout(0.5))\n",
        "model.add(Flatten())\n",
        "model.add(Dense(1024, activation='relu'))\n",
        "model.add(Dropout(0.5))\n",
        "model.add(Dense(1024, activation='relu'))\n",
        "model.add(Dropout(0.5))\n",
        "model.add(Dense(num_classes, activation='softmax'))\n",
        "\n",
        "model.compile(loss=keras.losses.categorical_crossentropy,\n",
        "              optimizer=keras.optimizers.RMSprop(),\n",
        "              metrics=['accuracy'])\n",
        "\n",
        "model.fit(x_train, y_train,\n",
        "          batch_size=batch_size,\n",
        "          epochs=epochs,\n",
        "          verbose=1,\n",
        "          validation_data=(x_test, y_test))\n",
        "score = model.evaluate(x_test, y_test, verbose=0)\n",
        "print('Test loss:', score[0])\n",
        "print('Test accuracy:', score[1])"
      ],
      "execution_count": 0,
      "outputs": [
        {
          "output_type": "stream",
          "text": [
            "Using TensorFlow backend.\n"
          ],
          "name": "stderr"
        },
        {
          "output_type": "stream",
          "text": [
            "Downloading data from https://s3.amazonaws.com/img-datasets/mnist.npz\n",
            "11493376/11490434 [==============================] - 0s 0us/step\n",
            "x_train shape: (60000, 28, 28, 1)\n",
            "60000 train samples\n",
            "10000 test samples\n",
            "WARNING:tensorflow:From /usr/local/lib/python3.6/dist-packages/tensorflow/python/framework/op_def_library.py:263: colocate_with (from tensorflow.python.framework.ops) is deprecated and will be removed in a future version.\n",
            "Instructions for updating:\n",
            "Colocations handled automatically by placer.\n",
            "WARNING:tensorflow:From /usr/local/lib/python3.6/dist-packages/keras/backend/tensorflow_backend.py:3445: calling dropout (from tensorflow.python.ops.nn_ops) with keep_prob is deprecated and will be removed in a future version.\n",
            "Instructions for updating:\n",
            "Please use `rate` instead of `keep_prob`. Rate should be set to `rate = 1 - keep_prob`.\n",
            "WARNING:tensorflow:From /usr/local/lib/python3.6/dist-packages/tensorflow/python/ops/math_ops.py:3066: to_int32 (from tensorflow.python.ops.math_ops) is deprecated and will be removed in a future version.\n",
            "Instructions for updating:\n",
            "Use tf.cast instead.\n",
            "Train on 60000 samples, validate on 10000 samples\n",
            "Epoch 1/25\n",
            "60000/60000 [==============================] - 199s 3ms/step - loss: 1.7258 - acc: 0.3886 - val_loss: 1.0467 - val_acc: 0.5841\n",
            "Epoch 2/25\n",
            "60000/60000 [==============================] - 191s 3ms/step - loss: 0.8895 - acc: 0.6545 - val_loss: 0.3306 - val_acc: 0.9092\n",
            "Epoch 3/25\n",
            "60000/60000 [==============================] - 192s 3ms/step - loss: 0.3108 - acc: 0.9247 - val_loss: 0.6157 - val_acc: 0.8275\n",
            "Epoch 4/25\n",
            "60000/60000 [==============================] - 192s 3ms/step - loss: 0.2034 - acc: 0.9529 - val_loss: 0.0960 - val_acc: 0.9775\n",
            "Epoch 5/25\n",
            "60000/60000 [==============================] - 192s 3ms/step - loss: 0.1477 - acc: 0.9688 - val_loss: 0.3046 - val_acc: 0.9264\n",
            "Epoch 6/25\n",
            "60000/60000 [==============================] - 192s 3ms/step - loss: 0.1224 - acc: 0.9744 - val_loss: 0.1159 - val_acc: 0.9755\n",
            "Epoch 7/25\n",
            "60000/60000 [==============================] - 192s 3ms/step - loss: 0.1090 - acc: 0.9785 - val_loss: 0.0766 - val_acc: 0.9874\n",
            "Epoch 8/25\n",
            "60000/60000 [==============================] - 192s 3ms/step - loss: 0.1164 - acc: 0.9798 - val_loss: 0.0860 - val_acc: 0.9870\n",
            "Epoch 9/25\n",
            "60000/60000 [==============================] - 192s 3ms/step - loss: 0.1019 - acc: 0.9817 - val_loss: 0.0533 - val_acc: 0.9911\n",
            "Epoch 10/25\n",
            "60000/60000 [==============================] - 192s 3ms/step - loss: 0.0945 - acc: 0.9847 - val_loss: 0.3104 - val_acc: 0.9593\n",
            "Epoch 11/25\n",
            "60000/60000 [==============================] - 192s 3ms/step - loss: 0.1014 - acc: 0.9850 - val_loss: 0.0538 - val_acc: 0.9915\n",
            "Epoch 12/25\n",
            "60000/60000 [==============================] - 192s 3ms/step - loss: 0.0950 - acc: 0.9866 - val_loss: 0.0665 - val_acc: 0.9908\n",
            "Epoch 13/25\n",
            "60000/60000 [==============================] - 192s 3ms/step - loss: 0.1145 - acc: 0.9861 - val_loss: 0.0607 - val_acc: 0.9915\n",
            "Epoch 14/25\n",
            "60000/60000 [==============================] - 192s 3ms/step - loss: 0.0905 - acc: 0.9867 - val_loss: 0.0403 - val_acc: 0.9932\n",
            "Epoch 15/25\n",
            "60000/60000 [==============================] - 192s 3ms/step - loss: 0.0860 - acc: 0.9876 - val_loss: 0.0464 - val_acc: 0.9928\n",
            "Epoch 16/25\n",
            "60000/60000 [==============================] - 192s 3ms/step - loss: 0.0905 - acc: 0.9871 - val_loss: 0.0493 - val_acc: 0.9902\n",
            "Epoch 17/25\n",
            "60000/60000 [==============================] - 193s 3ms/step - loss: 0.0897 - acc: 0.9884 - val_loss: 0.0551 - val_acc: 0.9891\n",
            "Epoch 18/25\n",
            "60000/60000 [==============================] - 192s 3ms/step - loss: 0.0908 - acc: 0.9887 - val_loss: 0.0726 - val_acc: 0.9893\n",
            "Epoch 19/25\n",
            "60000/60000 [==============================] - 191s 3ms/step - loss: 0.1045 - acc: 0.9888 - val_loss: 0.0607 - val_acc: 0.9918\n",
            "Epoch 20/25\n",
            "60000/60000 [==============================] - 191s 3ms/step - loss: 0.0940 - acc: 0.9890 - val_loss: 0.0532 - val_acc: 0.9924\n",
            "Epoch 21/25\n",
            "60000/60000 [==============================] - 191s 3ms/step - loss: 0.0764 - acc: 0.9899 - val_loss: 0.0559 - val_acc: 0.9913\n",
            "Epoch 22/25\n",
            "60000/60000 [==============================] - 191s 3ms/step - loss: 0.0838 - acc: 0.9903 - val_loss: 0.0669 - val_acc: 0.9920\n",
            "Epoch 23/25\n",
            "60000/60000 [==============================] - 191s 3ms/step - loss: 0.0800 - acc: 0.9906 - val_loss: 0.0516 - val_acc: 0.9939\n",
            "Epoch 24/25\n",
            "60000/60000 [==============================] - 191s 3ms/step - loss: 0.0769 - acc: 0.9903 - val_loss: 0.0461 - val_acc: 0.9921\n",
            "Epoch 25/25\n",
            "60000/60000 [==============================] - 191s 3ms/step - loss: 0.0691 - acc: 0.9912 - val_loss: 0.0894 - val_acc: 0.9901\n",
            "Test loss: 0.0894316689712605\n",
            "Test accuracy: 0.9901\n"
          ],
          "name": "stdout"
        }
      ]
    },
    {
      "cell_type": "code",
      "metadata": {
        "id": "kUy8rR3_ucMF",
        "colab_type": "code",
        "colab": {}
      },
      "source": [
        ""
      ],
      "execution_count": 0,
      "outputs": []
    }
  ]
}